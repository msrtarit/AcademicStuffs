{
 "cells": [
  {
   "cell_type": "code",
   "execution_count": 1,
   "metadata": {},
   "outputs": [
    {
     "name": "stdout",
     "output_type": "stream",
     "text": [
      "1 0\n",
      "2 2\n",
      "3 2\n",
      "4 3\n",
      "5 3\n",
      "6 4\n",
      "7 4\n",
      "8 5\n",
      "9 4\n",
      "10 5\n",
      "11 6\n",
      "12 7\n",
      "13 6\n",
      "14 7\n",
      "15 7\n",
      "16 6\n",
      "17 8\n",
      "18 8\n",
      "19 7\n",
      "20 9\n",
      "21 8\n",
      "22 7\n",
      "helloworld 10\n"
     ]
    },
    {
     "data": {
      "text/plain": [
       "<__main__.Sample at 0x1ec655143a0>"
      ]
     },
     "execution_count": 1,
     "metadata": {},
     "output_type": "execute_result"
    }
   ],
   "source": [
    "from random import randint\n",
    "import random as rn\n",
    "\n",
    "\n",
    "\n",
    "\n",
    "class Sample:\n",
    "    def __init__(self,s,score):\n",
    "        self.s = s\n",
    "        self.score = score\n",
    "\n",
    "class GeneticEvolution:\n",
    "    def __init__(self,s):\n",
    "        self.s = s\n",
    "        #97 122\n",
    "        self.population = []\n",
    "        self.mutation_rate = 0.1\n",
    "        for i in range(100):\n",
    "            sample = ''\n",
    "            for i in range(len(s)):\n",
    "                sample+= chr(int(randint(97,122)))\n",
    "            self.population.append(Sample(sample,self.fitness(sample)))\n",
    "    def fitness(self,sample):\n",
    "        score=0\n",
    "        for i,j in zip(list(sample),list(self.s)):\n",
    "            if i==j:\n",
    "                score+=1\n",
    "        return score\n",
    "    def selection(self):\n",
    "        new_population = []\n",
    "       \n",
    "        self.population.sort(key = lambda x: x.score,reverse=True)\n",
    "        new_population = self.population[:40]\n",
    "       \n",
    "        r_sample = rn.sample(self.population[40:],10)\n",
    "        for i in r_sample:\n",
    "            new_population.append(i)\n",
    "        self.population = new_population\n",
    "    def crossover(self):\n",
    "        for i in range(100-len(self.population)):\n",
    "            parents = rn.sample(self.population,2)\n",
    "            child = ''\n",
    "            for i,j in zip(list(parents[0].s),list(parents[1].s)):\n",
    "                if rn.random()<0.5:\n",
    "                    child+=i\n",
    "                else:\n",
    "                    child+=j\n",
    "            self.population.append(Sample(child,self.fitness(child)))\n",
    "           \n",
    "    def mutation(self):\n",
    "        new_population = []\n",
    "       \n",
    "        for sample in self.population:\n",
    "            mutated = ''\n",
    "            for i in sample.s:\n",
    "                if rn.random()<self.mutation_rate:\n",
    "                    mutated += chr(int(randint(97,122)))\n",
    "                else:\n",
    "                    mutated += i\n",
    "       \n",
    "            new_population.append(Sample(mutated,self.fitness(mutated)))\n",
    "        self.population = new_population\n",
    "   \n",
    "    def evolution(self):\n",
    "        generation = 0\n",
    "        while True:\n",
    "            generation+=1\n",
    "            print(generation, self.population[0].score)\n",
    "            #print(self.fitness(self.population[0]))\n",
    "            self.selection()\n",
    "            #condition\n",
    "            if self.population[0].score==self.fitness(self.s):\n",
    "                print(self.population[0].s,self.population[0].score)\n",
    "                return self.population[0]\n",
    "            elif generation>1000:\n",
    "                return None\n",
    "            \n",
    "            self.selection()\n",
    "            self.crossover()\n",
    "            self.mutation()\n",
    "            \n",
    "            \n",
    "g = GeneticEvolution(\"rakib\")\n",
    "g.evolution()"
   ]
  },
  {
   "cell_type": "code",
   "execution_count": null,
   "metadata": {},
   "outputs": [],
   "source": []
  }
 ],
 "metadata": {
  "kernelspec": {
   "display_name": "Python 3",
   "language": "python",
   "name": "python3"
  },
  "language_info": {
   "codemirror_mode": {
    "name": "ipython",
    "version": 3
   },
   "file_extension": ".py",
   "mimetype": "text/x-python",
   "name": "python",
   "nbconvert_exporter": "python",
   "pygments_lexer": "ipython3",
   "version": "3.9.13 (tags/v3.9.13:6de2ca5, May 17 2022, 16:36:42) [MSC v.1929 64 bit (AMD64)]"
  },
  "vscode": {
   "interpreter": {
    "hash": "ebd20295ac1ad0fee94a1ca2cf9ed5bafd10fe9ef88accb34e917a787ce03399"
   }
  }
 },
 "nbformat": 4,
 "nbformat_minor": 4
}
